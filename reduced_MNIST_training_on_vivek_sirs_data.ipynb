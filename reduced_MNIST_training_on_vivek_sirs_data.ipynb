{
 "cells": [
  {
   "cell_type": "code",
   "execution_count": 59,
   "metadata": {},
   "outputs": [],
   "source": [
    "import torch\n",
    "import torch.nn as nn\n",
    "import torch.optim as optim\n",
    "import torchvision.transforms as transforms\n",
    "from torchvision.datasets import MNIST\n",
    "from torch.utils.data import DataLoader\n",
    "import pickle\n",
    "from torchmetrics.classification import Accuracy, Precision, Recall, F1Score, ConfusionMatrix\n",
    "\n",
    "import torch.nn.functional as F\n",
    "\n",
    "import matplotlib.pyplot as plt"
   ]
  },
  {
   "cell_type": "code",
   "execution_count": 60,
   "metadata": {},
   "outputs": [],
   "source": [
    "device = torch.device(\"cpu\")"
   ]
  },
  {
   "cell_type": "code",
   "execution_count": 61,
   "metadata": {},
   "outputs": [],
   "source": [
    "\n",
    "with open('data\\datav2_resetspline.pkl', 'rb') as f:\n",
    "    reset_splines = pickle.load(f)\n",
    "with open('data\\datav2_setspline.pkl', 'rb') as f:\n",
    "    set_splines = pickle.load(f)"
   ]
  },
  {
   "cell_type": "code",
   "execution_count": 62,
   "metadata": {},
   "outputs": [],
   "source": [
    "# Hyperparameters\n",
    "input_size = 28*28 \n",
    "num_classes = 10\n",
    "num_epochs = 20\n",
    "batch_size = 64\n",
    "learning_rate = 0.01"
   ]
  },
  {
   "cell_type": "code",
   "execution_count": 63,
   "metadata": {},
   "outputs": [],
   "source": [
    "# Load MNIST dataset with downsampling\n",
    "transform = transforms.Compose([\n",
    "    transforms.Resize((20, 20)),  \n",
    "    transforms.ToTensor()\n",
    "])\n",
    "\n",
    "train_dataset = MNIST(root='./data/MNIST', train=True, transform=transform, download=True)\n",
    "test_dataset = MNIST(root='./data/MNIST', train=False, transform=transform, download=True)\n",
    "train_loader = DataLoader(dataset=train_dataset, batch_size=batch_size, shuffle=True)\n",
    "test_loader = DataLoader(dataset=test_dataset, batch_size=batch_size, shuffle=False)\n"
   ]
  },
  {
   "cell_type": "code",
   "execution_count": 64,
   "metadata": {},
   "outputs": [],
   "source": [
    "class HardwareAwareOptimizer(torch.optim.Optimizer):\n",
    "    def __init__(self, params, lr=0.01, set_splines=None, reset_splines = None):\n",
    "        defaults = dict(lr=lr)\n",
    "        self.set_splines = set_splines\n",
    "        self.reset_splines = reset_splines\n",
    "        super(HardwareAwareOptimizer, self).__init__(params, defaults)\n",
    "\n",
    "    def step(self):\n",
    "        def map_weights_to_conductance(weight, min_weight, max_weight, min_conductance, max_conductance):\n",
    "            # Linear interpolation from weight to conductance\n",
    "            normalized_weights = (weight - min_weight) / (max_weight - min_weight)\n",
    "            mapped_conductance = min_conductance + normalized_weights * (max_conductance - min_conductance)\n",
    "            mapped_conductance = torch.clamp(mapped_conductance, min_conductance, max_conductance)\n",
    "            return mapped_conductance\n",
    "        \n",
    "        def new_conductance(G0, grad):\n",
    "            \n",
    "            # G_pos = G0*1.05\n",
    "            # G_neg = G0*(0.95)\n",
    "            # Apply the splines based on gradient\n",
    "            tau = 0.05\n",
    "            # Masks for set, reset, and no change conditions\n",
    "            set_mask = torch.ge(grad, tau)       # Apply set spline if grad >= tau\n",
    "            reset_mask = torch.le(grad, -tau)    # Apply reset spline if grad <= -tau\n",
    "\n",
    "            # Apply the set and reset splines\n",
    "            # G_pos = G0 * self.reset_splines['1 us'].ev(G0, -1.85)    # Set spline adjustment\n",
    "            # G_neg = G0 * self.set_splines['1 us'].ev(G0, 1.83) # Reset spline adjustment\n",
    "            # G_pos = G0 * self.reset_splines(G0)\n",
    "            # G_neg = G0 * self.set_splines(G0)\n",
    "\n",
    "            G_neg = G0 +1.0410955555555556e-09\n",
    "            G_pos = G0 -2.4080184210526313e-09\n",
    "\n",
    "            # Use torch.where to select G_pos, G_neg, or G0 based on conditions\n",
    "            G_new = torch.where(set_mask, G_pos, torch.where(reset_mask, G_neg, G0))\n",
    "\n",
    "            return G_new\n",
    "            # positive_mask = torch.le(grad, 0)  # Check for grad >= 0\n",
    "            # G_pos = G0 * (self.set_splines['1 us'].ev(G0, 2.5))\n",
    "            # G_neg = G0 * (self.reset_splines['1 us'].ev(G0, -2.5))\n",
    "            \n",
    "            # # # Combine both positive and negative cases\n",
    "            # G_new = torch.where(positive_mask, G_pos, G_neg)\n",
    "            # return G_new\n",
    "\n",
    "        def map_conductance_to_weights(conductance, min_conductance, max_conductance, min_weight, max_weight):\n",
    "            # Reverse mapping from conductance to weight\n",
    "\n",
    "            normalized_conductance = (conductance - min_conductance) / (max_conductance - min_conductance)\n",
    "            mapped_weight = min_weight + normalized_conductance * (max_weight - min_weight)\n",
    "            mapped_weight = torch.clamp(mapped_weight, min_weight, max_weight)\n",
    "            return mapped_weight\n",
    "\n",
    "        def map_weights_to_conductance_sine(weight, min_weight, max_weight, min_conductance, max_conductance):\n",
    "            mid_weight = (max_weight+min_weight)/2\n",
    "            mid_conductance = (max_conductance + min_conductance)/2\n",
    "            normalized_weight = (weight - mid_weight)/(max_weight-mid_weight)\n",
    "            # normalized_conductance = 2/torch.pi * torch.arcsin(normalized_weight)\n",
    "            # normalized_conductance = torch.sign(normalized_weight) * torch.abs(normalized_weight) ** (1/3)\n",
    "            # normalized_conductance = normalized_weight ** 5\n",
    "            normalized_conductance = normalized_weight\n",
    "            conductance = normalized_conductance * (max_conductance - mid_conductance) + mid_conductance\n",
    "            return conductance\n",
    "        \n",
    "        def map_conductance_to_weights_sine(conductance, min_weight, max_weight, min_conductance, max_conductance):\n",
    "            mid_weight = (max_weight+min_weight)/2\n",
    "            mid_conductance = (max_conductance + min_conductance)/2\n",
    "            normalized_conductance = (conductance - mid_conductance)/(max_conductance - mid_conductance)\n",
    "            # normalized_weight = torch.sin(normalized_conductance * torch.pi/2)\n",
    "            # normalized_weight = torch.sign(normalized_conductance) * torch.abs(normalized_conductance) ** (1/5)\n",
    "            # normalized_weight = normalized_conductance ** 3\n",
    "            normalized_weight = normalized_conductance\n",
    "            weight = normalized_weight*(max_weight - mid_weight) + mid_weight\n",
    "            return weight\n",
    "\n",
    "\n",
    "\n",
    "        for group in self.param_groups:\n",
    "            for p in group['params']:\n",
    "                if p.grad is None:\n",
    "                    continue\n",
    "\n",
    "                min_weight, max_weight = -1.0, 1.0\n",
    "                min_conductance, max_conductance = 1.0e-8, 1.3e-7\n",
    "                \n",
    "                # Get the current weights and gradients\n",
    "                weight, grad = p.data, p.grad.data\n",
    "\n",
    "                # 1. Map weights to conductance values\n",
    "                G0 = map_weights_to_conductance_sine(\n",
    "                    weight=weight,\n",
    "                    min_weight=min_weight,\n",
    "                    max_weight=max_weight,\n",
    "                    min_conductance=min_conductance,\n",
    "                    max_conductance=max_conductance\n",
    "                )\n",
    "\n",
    "                G0 = torch.clamp(G0, min=min_conductance, max=max_conductance)\n",
    "\n",
    "                # 2. Modify conductance using spline function based on the gradient\n",
    "                G_new = new_conductance(G0=G0, grad=grad)\n",
    "\n",
    "                # 3. Map the new conductance values back to weights\n",
    "                new_weight = map_conductance_to_weights_sine(\n",
    "                    conductance=G_new,\n",
    "                    min_conductance=min_conductance,\n",
    "                    max_conductance=max_conductance,\n",
    "                    min_weight=min_weight,\n",
    "                    max_weight=max_weight\n",
    "                )\n",
    "                \n",
    "                # Update the weights in the optimizer\n",
    "                p.data.copy_(new_weight)  # In-place update of the weights\n"
   ]
  },
  {
   "cell_type": "code",
   "execution_count": null,
   "metadata": {},
   "outputs": [],
   "source": [
    "# # Define MLP model with no hidden layers\n",
    "class SimpleMLP(nn.Module):\n",
    "    def __init__(self, input_size, num_classes):\n",
    "        super(SimpleMLP, self).__init__()\n",
    "        self.fc = nn.Linear(input_size, num_classes)\n",
    "        self.softmax = nn.Softmax(dim=1)\n",
    "        # Initialize weights\n",
    "        self.init_weights()\n",
    "\n",
    "    def init_weights(self):\n",
    "        for layer in self.children():\n",
    "            if isinstance(layer, (nn.Linear, nn.Conv2d)):\n",
    "                nn.init.xavier_uniform_(layer.weight)\n",
    "                nn.init.zeros_(layer.bias)\n",
    "    \n",
    "    def forward(self, x):\n",
    "        x = x.view(-1, input_size)  # Flatten the input\n",
    "        x = self.fc(x)\n",
    "        # x = self.softmax(x)\n",
    "        return x\n",
    "    \n"
   ]
  },
  {
   "cell_type": "code",
   "execution_count": 66,
   "metadata": {},
   "outputs": [],
   "source": [
    "\n",
    "class SimpleCNN(nn.Module):\n",
    "    def __init__(self, num_classes, dropout_prob=0.05): \n",
    "        super(SimpleCNN, self).__init__()\n",
    "        \n",
    "        # Define the convolutional layers\n",
    "        self.conv1 = nn.Conv2d(in_channels=1, out_channels=4, kernel_size=3, stride=1, padding=1)  # First convolution layer\n",
    "        self.bn1 = nn.BatchNorm2d(4)  # Batch normalization\n",
    "        self.conv2 = nn.Conv2d(in_channels=4, out_channels=2, kernel_size=3, stride=1, padding=1)  # Second convolution layer\n",
    "        self.bn2 = nn.BatchNorm2d(2)  # Batch normalization\n",
    "        self.pool = nn.MaxPool2d(kernel_size=2, stride=2, padding=0)  # Max pooling layer\n",
    "        \n",
    "        # Dropout layer\n",
    "        self.dropout = nn.Dropout(dropout_prob)  # Dropout layer with specified probability\n",
    "\n",
    "        # Fully connected layer\n",
    "        self.fc1 = nn.Linear(2 * 5 * 5, num_classes)  # Adjust 7x7 based on the input size and pooling\n",
    "\n",
    "        \n",
    "        # Initialize weights\n",
    "        self.init_weights()\n",
    "\n",
    "    def init_weights(self):\n",
    "        for layer in self.children():\n",
    "            if isinstance(layer, (nn.Linear, nn.Conv2d)):\n",
    "                nn.init.xavier_uniform_(layer.weight)\n",
    "                nn.init.zeros_(layer.bias)\n",
    "\n",
    "    def forward(self, x):\n",
    "        # Pass through convolutional layers with ReLU activation and pooling\n",
    "        x = self.conv1(x)\n",
    "        x = self.bn1(x)\n",
    "        x = F.elu(x)\n",
    "        x = self.pool(x)\n",
    "\n",
    "        x = self.conv2(x)\n",
    "        x = self.bn2(x)\n",
    "        x = F.elu(x)\n",
    "        x = self.pool(x)\n",
    "\n",
    "        # x = self.pool(F.elu(self.bn1(self.conv1(x))))  # Batch normalization after conv1\n",
    "        # x = self.pool(F.elu(self.bn2(self.conv2(x))))  # Batch normalization after conv2\n",
    "\n",
    "        # Flatten the tensor for the fully connected layer\n",
    "        x = x.view(x.size(0), -1)  # Flatten the tensor\n",
    "        \n",
    "        # Apply dropout before the fully connected layer\n",
    "        # x = self.dropout(x)  # Apply dropout\n",
    "\n",
    "        # Pass through the fully connected layer\n",
    "        x = self.fc1(x)\n",
    "        # x = F.softmax(x, dim=1)\n",
    "\n",
    "        \n",
    "        \n",
    "        return x"
   ]
  },
  {
   "cell_type": "code",
   "execution_count": null,
   "metadata": {},
   "outputs": [
    {
     "name": "stdout",
     "output_type": "stream",
     "text": [
      "Total number of parameters: 636\n"
     ]
    }
   ],
   "source": [
    "# Initialize model, loss, and optimizer\n",
    "# model = SimpleMLP(input_size, num_classes).to(device)\n",
    "model = SimpleCNN(num_classes).to(device)\n",
    "# model_dicts = []\n",
    "best_loss = 1e9\n",
    "criterion = nn.CrossEntropyLoss()\n",
    "optimizer = HardwareAwareOptimizer(model.parameters(), lr=0.01, set_splines=set_splines, reset_splines=reset_splines)\n",
    "# optimizer = optim.SGD(model.parameters(), lr=learning_rate)\n",
    "\n",
    "# Check total number of parameters\n",
    "total_params = sum(p.numel() for p in model.parameters() if p.requires_grad)\n",
    "print(f\"Total number of parameters: {total_params}\")\n",
    "\n",
    "# Performance metrics\n",
    "accuracy_metric = Accuracy(task=\"multiclass\", num_classes=num_classes).to(device)\n",
    "precision_metric = Precision(task=\"multiclass\", num_classes=num_classes, average='macro').to(device)\n",
    "recall_metric = Recall(task=\"multiclass\", num_classes=num_classes, average='macro').to(device)\n",
    "f1_score_metric = F1Score(task=\"multiclass\", num_classes=num_classes, average='macro').to(device)\n",
    "\n",
    "confusion_matrix = ConfusionMatrix(task=\"multiclass\", num_classes=num_classes).to(device)\n"
   ]
  },
  {
   "cell_type": "code",
   "execution_count": null,
   "metadata": {},
   "outputs": [
    {
     "name": "stdout",
     "output_type": "stream",
     "text": [
      "Epoch [1/20], Loss: 0.6530, Accuracy: 0.8942, Precision: 0.8964, Recall: 0.8940, F1 Score: 0.8937\n",
      "Epoch [2/20], Loss: 0.4854, Accuracy: 0.9115, Precision: 0.9117, Recall: 0.9109, F1 Score: 0.9107\n",
      "Epoch [3/20], Loss: 0.4760, Accuracy: 0.8690, Precision: 0.8787, Recall: 0.8673, F1 Score: 0.8658\n",
      "Epoch [4/20], Loss: 0.4865, Accuracy: 0.9117, Precision: 0.9110, Recall: 0.9109, F1 Score: 0.9106\n",
      "Epoch [5/20], Loss: 0.4552, Accuracy: 0.9163, Precision: 0.9174, Recall: 0.9157, F1 Score: 0.9156\n",
      "Epoch [6/20], Loss: 0.4576, Accuracy: 0.9142, Precision: 0.9141, Recall: 0.9133, F1 Score: 0.9132\n",
      "Epoch [7/20], Loss: 0.4516, Accuracy: 0.8401, Precision: 0.8630, Recall: 0.8411, F1 Score: 0.8407\n",
      "Epoch [8/20], Loss: 0.4556, Accuracy: 0.9092, Precision: 0.9103, Recall: 0.9087, F1 Score: 0.9071\n",
      "Epoch [9/20], Loss: 0.4404, Accuracy: 0.9173, Precision: 0.9184, Recall: 0.9156, F1 Score: 0.9162\n",
      "Epoch [10/20], Loss: 0.4485, Accuracy: 0.8594, Precision: 0.8813, Recall: 0.8625, F1 Score: 0.8624\n",
      "Epoch [11/20], Loss: 0.4310, Accuracy: 0.8841, Precision: 0.8933, Recall: 0.8830, F1 Score: 0.8829\n",
      "Epoch [12/20], Loss: 0.4222, Accuracy: 0.9267, Precision: 0.9269, Recall: 0.9262, F1 Score: 0.9262\n",
      "Epoch [13/20], Loss: 0.4116, Accuracy: 0.9273, Precision: 0.9279, Recall: 0.9264, F1 Score: 0.9265\n",
      "Epoch [14/20], Loss: 0.4185, Accuracy: 0.9206, Precision: 0.9215, Recall: 0.9199, F1 Score: 0.9198\n",
      "Epoch [15/20], Loss: 0.4075, Accuracy: 0.9288, Precision: 0.9284, Recall: 0.9283, F1 Score: 0.9280\n",
      "Epoch [16/20], Loss: 0.3998, Accuracy: 0.8444, Precision: 0.8702, Recall: 0.8454, F1 Score: 0.8473\n",
      "Epoch [17/20], Loss: 0.3899, Accuracy: 0.9258, Precision: 0.9263, Recall: 0.9251, F1 Score: 0.9251\n",
      "Epoch [18/20], Loss: 0.3785, Accuracy: 0.9336, Precision: 0.9336, Recall: 0.9329, F1 Score: 0.9330\n",
      "Epoch [19/20], Loss: 0.3977, Accuracy: 0.7347, Precision: 0.8152, Recall: 0.7300, F1 Score: 0.7347\n",
      "Epoch [20/20], Loss: 0.4515, Accuracy: 0.8804, Precision: 0.8875, Recall: 0.8782, F1 Score: 0.8779\n"
     ]
    }
   ],
   "source": [
    "\n",
    "# Training loop\n",
    "for epoch in range(num_epochs):\n",
    "    model.train()\n",
    "    total_loss = 0\n",
    "    for batch_idx, (data, targets) in enumerate(train_loader):\n",
    "        data, targets = data.to(device), targets.to(device)\n",
    "        \n",
    "        # Forward pass\n",
    "        outputs = model(data)\n",
    "        loss = criterion(outputs, targets)\n",
    "        total_loss += loss.item()\n",
    "        \n",
    "        # Backward pass and optimize\n",
    "        optimizer.zero_grad()\n",
    "        loss.backward()\n",
    "        optimizer.step()\n",
    "    \n",
    "    # Reset metrics\n",
    "    accuracy_metric.reset()\n",
    "    precision_metric.reset()\n",
    "    recall_metric.reset()\n",
    "    f1_score_metric.reset()\n",
    "\n",
    "    # Evaluate on test set\n",
    "    model.eval()\n",
    "    with torch.no_grad():\n",
    "        for data, targets in test_loader:\n",
    "            data, targets = data.to(device), targets.to(device)\n",
    "            outputs = model(data)\n",
    "            _, predicted = torch.max(outputs, 1)\n",
    "\n",
    "            # Update metrics\n",
    "            accuracy_metric.update(predicted, targets)\n",
    "            precision_metric.update(predicted, targets)\n",
    "            recall_metric.update(predicted, targets)\n",
    "            f1_score_metric.update(predicted, targets)\n",
    "\n",
    "    # Compute and print metrics\n",
    "    accuracy = accuracy_metric.compute().item()\n",
    "    precision = precision_metric.compute().item()\n",
    "    recall = recall_metric.compute().item()\n",
    "    f1_score = f1_score_metric.compute().item()\n",
    "\n",
    "    print(f\"Epoch [{epoch+1}/{num_epochs}], Loss: {total_loss/(50000/batch_size):.4f}, \"\n",
    "          f\"Accuracy: {accuracy:.4f}, Precision: {precision:.4f}, Recall: {recall:.4f}, F1 Score: {f1_score:.4f}\")\n",
    "\n",
    "\n",
    "\n"
   ]
  },
  {
   "cell_type": "code",
   "execution_count": 72,
   "metadata": {},
   "outputs": [
    {
     "name": "stderr",
     "output_type": "stream",
     "text": [
      "C:\\Users\\adith\\AppData\\Local\\Temp\\ipykernel_26432\\1224609247.py:26: UserWarning: To copy construct from a tensor, it is recommended to use sourceTensor.clone().detach() or sourceTensor.clone().detach().requires_grad_(True), rather than torch.tensor(sourceTensor).\n",
      "  outputs = model(torch.tensor(images, dtype=torch.float32))\n"
     ]
    },
    {
     "name": "stdout",
     "output_type": "stream",
     "text": [
      "Test Accuracy: 87.15%\n",
      "Test Precision: 87.9968%\n",
      "Test Recall: 86.9373%\n",
      "Test F1 Score: 0.8689\n",
      "Confusion Matrix:\n",
      "tensor([[5643,   50,   11,   13,   11,   60,   31,   40,   46,   18],\n",
      "        [   3, 6493,   88,   26,   17,   11,    2,   83,    9,   10],\n",
      "        [  26,   49, 4998,  500,   55,   29,   10,  237,   27,   27],\n",
      "        [  17,    9,   50, 5843,    1,   60,    1,   70,   36,   44],\n",
      "        [  21,   43,   15,   39, 5212,   21,   22,   64,   17,  388],\n",
      "        [  77,    5,   29,  451,    7, 4727,   16,   31,   50,   28],\n",
      "        [ 145,  214,   47,    4,  284,  243, 4920,    4,   56,    1],\n",
      "        [  16,    3,   59,  108,    8,    8,    0, 5842,    2,  219],\n",
      "        [  86,  243,  310,  631,   20,  259,   17,  320, 3579,  386],\n",
      "        [  30,   12,   17,  171,   33,  100,    4,  530,   17, 5035]])\n"
     ]
    }
   ],
   "source": [
    "# # curr_model = SimpleCNN(num_classes)\n",
    "# # curr_model.load_state_dict(model_dicts[2])\n",
    "# # Test the model\n",
    "# model.eval()\n",
    "# with torch.no_grad():\n",
    "#     correct = 0\n",
    "#     total = 0\n",
    "#     for data, targets in train_loader:\n",
    "#         data, targets = data.to(device), targets.to(device)\n",
    "#         outputs = model(data)\n",
    "#         _, predicted = torch.max(outputs.data, 1)\n",
    "#         total += targets.size(0)\n",
    "#         correct += (predicted == targets).sum().item()\n",
    "\n",
    "#     print(f\"Test Accuracy of the model on the 10,000 test images: {100 * correct / total:.2f}%\")\n",
    "\n",
    "\n",
    "model.eval()\n",
    "all_preds = []\n",
    "all_labels = []\n",
    "\n",
    "with torch.no_grad():\n",
    "    for images, labels in train_loader:\n",
    "        # Move images and labels to GPU\n",
    "        images, labels = images.to(device), labels.to(device)\n",
    "        outputs = model(torch.tensor(images, dtype=torch.float32))\n",
    "        _, predicted = torch.max(outputs, 1)\n",
    "\n",
    "        # Append predictions and labels for metric calculations\n",
    "        all_preds.append(predicted)\n",
    "        all_labels.append(labels)\n",
    "\n",
    "\n",
    "# Concatenate all predictions and labels\n",
    "\n",
    "all_preds = torch.cat(all_preds).to(device)\n",
    "all_labels = torch.cat(all_labels).to(device)\n",
    "# all_labels = all_labels.argmax(dim=1)\n",
    "# Calculate metrics\n",
    "test_accuracy = accuracy_metric(all_preds, all_labels)\n",
    "test_precision = precision_metric(all_preds, all_labels)\n",
    "test_recall = recall_metric(all_preds, all_labels)\n",
    "test_f1 = f1_score_metric(all_preds, all_labels)\n",
    "test_confusion_matrix = confusion_matrix(all_preds, all_labels)\n",
    "\n",
    "print(f'Test Accuracy: {test_accuracy * 100:.2f}%')\n",
    "print(f'Test Precision: {test_precision*100:.4f}%')\n",
    "print(f'Test Recall: {test_recall*100:.4f}%')\n",
    "print(f'Test F1 Score: {test_f1:.4f}')\n",
    "print(\"Confusion Matrix:\")\n",
    "print(test_confusion_matrix)\n",
    "\n",
    "        "
   ]
  },
  {
   "cell_type": "code",
   "execution_count": 73,
   "metadata": {},
   "outputs": [],
   "source": [
    "# torch.save(model.state_dict(), \"data/cnn_on_mnist_HAT.pt\")"
   ]
  },
  {
   "cell_type": "code",
   "execution_count": 74,
   "metadata": {},
   "outputs": [
    {
     "name": "stdout",
     "output_type": "stream",
     "text": [
      "Total number of parameters: 636\n"
     ]
    }
   ],
   "source": [
    "\n",
    "total_params = sum(p.numel() for p in model.parameters() if p.requires_grad)\n",
    "print(f\"Total number of parameters: {total_params}\")"
   ]
  },
  {
   "cell_type": "code",
   "execution_count": 75,
   "metadata": {},
   "outputs": [
    {
     "data": {
      "image/png": "[encoded data removed]",
      "text/plain": [
       "<Figure size 1000x600 with 1 Axes>"
      ]
     },
     "metadata": {},
     "output_type": "display_data"
    }
   ],
   "source": [
    "# temp_model = SimpleCNN(num_classes).to(device)\n",
    "temp_model = SimpleMLP(input_size, num_classes).to(device)\n",
    "def plot_model_weights_histogram(model):\n",
    "    # Collect all weights in the model\n",
    "    all_weights = []\n",
    "    for name, param in model.named_parameters():\n",
    "        if 'weight' in name:  # only take weights, ignore biases\n",
    "            all_weights.extend(param.data.cpu().numpy().flatten())\n",
    "    \n",
    "    # Plot the histogram\n",
    "    plt.figure(figsize=(10, 6))\n",
    "    plt.hist(all_weights, bins=50, color='blue', alpha=0.7)\n",
    "    plt.title('Histogram of Model Weights')\n",
    "    plt.xlabel('Weight Value')\n",
    "    plt.ylabel('Frequency')\n",
    "    plt.grid(True)\n",
    "    plt.show()\n",
    "\n",
    "plot_model_weights_histogram(model=model)"
   ]
  },
  {
   "cell_type": "code",
   "execution_count": 76,
   "metadata": {},
   "outputs": [],
   "source": [
    "# torch.save(model.state_dict(), \"data/cnn_with_leakyRelu.pth\")\n",
    "\n"
   ]
  },
  {
   "cell_type": "code",
   "execution_count": 77,
   "metadata": {},
   "outputs": [
    {
     "name": "stdout",
     "output_type": "stream",
     "text": [
      "Total number of parameters: 7850\n"
     ]
    }
   ],
   "source": [
    "\n",
    "total_params = sum(p.numel() for p in temp_model.parameters() if p.requires_grad)\n",
    "print(f\"Total number of parameters: {total_params}\")"
   ]
  },
  {
   "cell_type": "code",
   "execution_count": 78,
   "metadata": {},
   "outputs": [
    {
     "data": {
      "image/png": "[encoded data removed]",
      "text/plain": [
       "<Figure size 1000x600 with 1 Axes>"
      ]
     },
     "metadata": {},
     "output_type": "display_data"
    }
   ],
   "source": [
    "\n",
    "\n",
    "plot_model_weights_histogram(model=temp_model)"
   ]
  },
  {
   "cell_type": "code",
   "execution_count": null,
   "metadata": {},
   "outputs": [],
   "source": []
  },
  {
   "cell_type": "code",
   "execution_count": null,
   "metadata": {},
   "outputs": [],
   "source": []
  }
 ],
 "metadata": {
  "kernelspec": {
   "display_name": "venv",
   "language": "python",
   "name": "python3"
  },
  "language_info": {
   "codemirror_mode": {
    "name": "ipython",
    "version": 3
   },
   "file_extension": ".py",
   "mimetype": "text/x-python",
   "name": "python",
   "nbconvert_exporter": "python",
   "pygments_lexer": "ipython3",
   "version": "3.11.9"
  }
 },
 "nbformat": 4,
 "nbformat_minor": 2
}
